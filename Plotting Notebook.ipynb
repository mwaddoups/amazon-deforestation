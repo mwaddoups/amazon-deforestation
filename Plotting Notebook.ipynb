{
 "cells": [
  {
   "cell_type": "code",
   "execution_count": null,
   "metadata": {},
   "outputs": [],
   "source": [
    "from prodes.process import process_combined_files\n",
    "\n",
    "data = process_combined_files(\n",
    "    gfw_data='../gfw/prodes2015merge.dbf',\n",
    "    prodes_multi_year_data='../prodes/yearly_deforestation_2008_2018.dbf',\n",
    "    single_year_data={'2019': '../prodes/yearly_deforestation_2019.dbf'},\n",
    ")"
   ]
  },
  {
   "cell_type": "code",
   "execution_count": null,
   "metadata": {},
   "outputs": [],
   "source": [
    "from prodes.plot import plot_deforestation\n",
    "\n",
    "plot_deforestation(data)"
   ]
  },
  {
   "cell_type": "code",
   "execution_count": null,
   "metadata": {},
   "outputs": [],
   "source": []
  }
 ],
 "metadata": {
  "kernelspec": {
   "display_name": "Python 3",
   "language": "python",
   "name": "python3"
  },
  "language_info": {
   "codemirror_mode": {
    "name": "ipython",
    "version": 3
   },
   "file_extension": ".py",
   "mimetype": "text/x-python",
   "name": "python",
   "nbconvert_exporter": "python",
   "pygments_lexer": "ipython3",
   "version": "3.7.2"
  }
 },
 "nbformat": 4,
 "nbformat_minor": 2
}
